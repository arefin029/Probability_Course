{
 "cells": [
  {
   "cell_type": "markdown",
   "metadata": {},
   "source": [
    "### Part 1\n",
    "\n",
    "Use Markov Chain Monte Carlo to estimate the distribution of likely values for $\\mu$ for arrivals in a Poisson distribution. You are given 50 samples drawn from a Poisson distribution whose value of $\\mu$ is unknown to you. Use MCMC to create a histogram of possible values for $\\mu$. Recall from Week 4 that the steps in an MCMC simulation are as follows:\n",
    "\n",
    "1. Pick a value for $\\mu$ at random <br><br>\n",
    "1. Create a *proposal* value by adding a small bit of noise onto $\\mu$<br><br>\n",
    "1. Compute the likelihood that the observed data was generated using $\\mu$<br><br>\n",
    "1. Compute the likelihood that the observed data was generated using $\\mu_{proposal}$<br><br>\n",
    "1. If $\\mu_{proposal}$ has a greater likelihood, keep it as the new value of $\\mu$<br><br>\n",
    "1. If $\\mu_{proposal}$ has a lower likelihood, keep it as the new value of $\\mu$ with probability $\\mu_{proposal} \\div \\mu$<br><br>\n",
    "1. Repeat steps 2-6 many times<br><br>\n",
    "1. The histogram of resulting $\\mu$ values shows the distribution of likely values of $\\mu$ (when histogramming, be sure to ignore the first 10% or so of the values of $\\mu$ because they are biased by your initial condition)<br><br>\n",
    "\n",
    "What does MCMC predict for the average value of $\\mu$? How does that compare with the average of 50 samples you are given?\n",
    "\n",
    "Hint: The overall likelihood is given by the *product* of the likelihoods of each of the 50 observations. However some of these probabilities can be quite small and so their products can vanish to zero, ruining our fun. A good alternative is to compute the *log-likelihoods* and then *add* them. The `scipy.stats.poisson` toolbox has functions for both `pmf` and `logpmf` to facilitate this for you."
   ]
  },
  {
   "cell_type": "code",
   "execution_count": 1,
   "metadata": {},
   "outputs": [],
   "source": [
    "import numpy as np\n",
    "import matplotlib.pyplot as plt\n",
    "import scipy.stats as stats\n"
   ]
  },
  {
   "cell_type": "code",
   "execution_count": 2,
   "metadata": {},
   "outputs": [
    {
     "name": "stdout",
     "output_type": "stream",
     "text": [
      "(50,)\n"
     ]
    }
   ],
   "source": [
    "# load the data from file\n",
    "with open(\"data_1.npy\",\"rb\") as f:\n",
    "    data = np.load(f)\n",
    "\n",
    "print(data.shape)"
   ]
  },
  {
   "cell_type": "code",
   "execution_count": 3,
   "metadata": {},
   "outputs": [
    {
     "name": "stdout",
     "output_type": "stream",
     "text": [
      "8.38\n"
     ]
    }
   ],
   "source": [
    "# your code goes here\n",
    "print(np.mean(data)) # investigate the mean of given data\n",
    "# comment everything!\n"
   ]
  },
  {
   "cell_type": "code",
   "execution_count": 16,
   "metadata": {},
   "outputs": [],
   "source": [
    "# pick a starting value for the simulation\n",
    "mu_init =   np.random.choice([1,10],1)       # Initial Mean\n",
    "\n",
    "# set up the random number generator that will be used to advance p\n",
    "# set up number of trials\n",
    "nTrials = int(1e4)\n",
    "\n",
    "\n",
    "# initialize variables\n",
    "mu_vals    = np.zeros(nTrials,)    # Store all mu's\n",
    "mu_vals[0] = mu_init\n",
    "store_likeli_muold=[]\n",
    "store_likeli_munew=[]\n",
    "# iterate the simulation nTrials times\n",
    "for i in range(1,nTrials):\n",
    "   \n",
    "    mu_updater = stats.norm(scale=.1).rvs()   # Add Randomness\n",
    "\n",
    "\n",
    "\n",
    "    # pick new and old values of p\n",
    "    mu_old = mu_vals[i-1]\n",
    "    mu_new = mu_old + mu_updater\n",
    "\n",
    "    # compute how likely each value of p is relative\n",
    "    # to the observed outcomes\n",
    "\n",
    "    \n",
    "    store_like_muold=((stats.poisson(mu_old).logpmf(data)).sum()) # likelihood with old mu\n",
    "    store_like_munew=((stats.poisson(mu_new).logpmf(data)).sum())  # likelihood with new mu\n",
    "     \n",
    "        \n",
    " \n",
    "    \n",
    "    np.seterr(divide='ignore', invalid='ignore')\n",
    "    \n",
    "    if 1 > (store_like_munew)/(store_like_muold):                # Compare which mu has higher likelihood \n",
    "        mu_vals[i]=mu_new                        \n",
    "    else:\n",
    "        mu_vals[i]=mu_old\n",
    "\n",
    "        "
   ]
  },
  {
   "cell_type": "code",
   "execution_count": 17,
   "metadata": {},
   "outputs": [
    {
     "data": {
      "image/png": "[encoded data removed]",
      "text/plain": [
       "<Figure size 432x288 with 1 Axes>"
      ]
     },
     "metadata": {
      "needs_background": "light"
     },
     "output_type": "display_data"
    }
   ],
   "source": [
    "mu_vals=mu_vals[1:10000]  #ignore first 10%s\n",
    "plt.hist(mu_vals,50) # plot mu's\n",
    "plt.show()"
   ]
  },
  {
   "cell_type": "code",
   "execution_count": 18,
   "metadata": {},
   "outputs": [
    {
     "data": {
      "text/plain": [
       "8.313359425902975"
      ]
     },
     "execution_count": 18,
     "metadata": {},
     "output_type": "execute_result"
    }
   ],
   "source": [
    "np.mean(mu_vals)"
   ]
  },
  {
   "cell_type": "code",
   "execution_count": null,
   "metadata": {},
   "outputs": [],
   "source": []
  },
  {
   "cell_type": "code",
   "execution_count": null,
   "metadata": {},
   "outputs": [],
   "source": []
  },
  {
   "cell_type": "code",
   "execution_count": null,
   "metadata": {},
   "outputs": [],
   "source": []
  },
  {
   "cell_type": "markdown",
   "metadata": {},
   "source": [
    "   prior_old = stats.uniform(5,10).logpdf(mu_old)\n",
    "    prior_new = stats.uniform(5,10).logpdf(mu_new)\n",
    "    \n",
    "    \n",
    "    post_old=store_like_muold*prior_old\n",
    "    post_new=store_like_munew*prior_new"
   ]
  },
  {
   "cell_type": "code",
   "execution_count": null,
   "metadata": {},
   "outputs": [],
   "source": []
  },
  {
   "cell_type": "code",
   "execution_count": null,
   "metadata": {},
   "outputs": [],
   "source": []
  }
 ],
 "metadata": {
  "celltoolbar": "Edit Metadata",
  "kernelspec": {
   "display_name": "Python 3",
   "language": "python",
   "name": "python3"
  },
  "language_info": {
   "codemirror_mode": {
    "name": "ipython",
    "version": 3
   },
   "file_extension": ".py",
   "mimetype": "text/x-python",
   "name": "python",
   "nbconvert_exporter": "python",
   "pygments_lexer": "ipython3",
   "version": "3.7.6"
  }
 },
 "nbformat": 4,
 "nbformat_minor": 5
}
