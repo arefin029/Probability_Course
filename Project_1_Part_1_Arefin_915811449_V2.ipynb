{
 "cells": [
  {
   "cell_type": "markdown",
   "metadata": {},
   "source": [
    "### Mohammed Shahriar Arefin (915811449)\n",
    "#### Date: 10/24/2021\n",
    "\n",
    "\n",
    "### Project 1 Part 1\n",
    "\n",
    "Use Markov Chain Monte Carlo to estimate the distribution of likely values for $\\mu$ for arrivals in a Poisson distribution. You are given 50 samples drawn from a Poisson distribution whose value of $\\mu$ is unknown to you. Use MCMC to create a histogram of possible values for $\\mu$. Recall from Week 4 that the steps in an MCMC simulation are as follows:\n",
    "\n",
    "1. Pick a value for $\\mu$ at random <br><br>\n",
    "1. Create a *proposal* value by adding a small bit of noise onto $\\mu$<br><br>\n",
    "1. Compute the likelihood that the observed data was generated using $\\mu$<br><br>\n",
    "1. Compute the likelihood that the observed data was generated using $\\mu_{proposal}$<br><br>\n",
    "1. If $\\mu_{proposal}$ has a greater likelihood, keep it as the new value of $\\mu$<br><br>\n",
    "1. If $\\mu_{proposal}$ has a lower likelihood, keep it as the new value of $\\mu$ with probability $\\mu_{proposal} \\div \\mu$<br><br>\n",
    "1. Repeat steps 2-6 many times<br><br>\n",
    "1. The histogram of resulting $\\mu$ values shows the distribution of likely values of $\\mu$ (when histogramming, be sure to ignore the first 10% or so of the values of $\\mu$ because they are biased by your initial condition)<br><br>\n",
    "\n",
    "What does MCMC predict for the average value of $\\mu$? How does that compare with the average of 50 samples you are given?\n",
    "\n",
    "Hint: The overall likelihood is given by the *product* of the likelihoods of each of the 50 observations. However some of these probabilities can be quite small and so their products can vanish to zero, ruining our fun. A good alternative is to compute the *log-likelihoods* and then *add* them. The `scipy.stats.poisson` toolbox has functions for both `pmf` and `logpmf` to facilitate this for you."
   ]
  },
  {
   "cell_type": "code",
   "execution_count": 1,
   "metadata": {},
   "outputs": [],
   "source": [
    "import numpy as np\n",
    "import matplotlib.pyplot as plt\n",
    "import scipy.stats as stats "
   ]
  },
  {
   "cell_type": "code",
   "execution_count": 2,
   "metadata": {},
   "outputs": [
    {
     "name": "stdout",
     "output_type": "stream",
     "text": [
      "(50,)\n"
     ]
    }
   ],
   "source": [
    "# load the data from file\n",
    "with open(\"data_1.npy\",\"rb\") as f:\n",
    "    data = np.load(f)\n",
    "\n",
    "print(data.shape)"
   ]
  },
  {
   "cell_type": "code",
   "execution_count": 21,
   "metadata": {},
   "outputs": [
    {
     "data": {
      "image/png": "[encoded data removed]",
      "text/plain": [
       "<Figure size 432x288 with 1 Axes>"
      ]
     },
     "metadata": {
      "needs_background": "light"
     },
     "output_type": "display_data"
    },
    {
     "name": "stdout",
     "output_type": "stream",
     "text": [
      " Mean of Given Dataset: 8.380\n"
     ]
    }
   ],
   "source": [
    "# your code goes here\n",
    "\n",
    "# First Investigate the given dataset\n",
    "\n",
    "plt.hist(data,20)\n",
    "plt.title('Given Dataset Distribution')\n",
    "plt.xlabel('Mu')\n",
    "plt.ylabel('Count')\n",
    "plt.show()\n",
    "\n",
    "print(f\" Mean of Given Dataset: {np.mean(data):0.3f}\")\n",
    "\n",
    "\n",
    "# comment everything!"
   ]
  },
  {
   "cell_type": "markdown",
   "metadata": {},
   "source": [
    "The mean of the given dataset is around 8.38. So, if we implement a MCMC algorithm the mean from that algorithm should also converge around 8.38."
   ]
  },
  {
   "cell_type": "code",
   "execution_count": 22,
   "metadata": {},
   "outputs": [
    {
     "name": "stdout",
     "output_type": "stream",
     "text": [
      " Intial Mean: [2]\n"
     ]
    }
   ],
   "source": [
    "# pick a starting value for the simulation\n",
    "mu_initial =   np.random.choice([min(data),max(data)],1)       # Select initial mean within the range of whole dataset\n",
    "print(f\" Intial Mean: {mu_initial}\")\n",
    "\n",
    "# set up number of trials\n",
    "nTrials = int(3e4)\n",
    "\n",
    "\n",
    "# initialize variables to store likelihood and mean values \n",
    "\n",
    "mu_value    = np.zeros(nTrials,)    # Store all mu's\n",
    "mu_value[0] = mu_initial\n",
    "likelihood_with_new_mu=[]\n",
    "likelihood_with_old_mu=[]"
   ]
  },
  {
   "cell_type": "code",
   "execution_count": 23,
   "metadata": {},
   "outputs": [],
   "source": [
    "# iterate the simulation nTrials times\n",
    "\n",
    "for i in range(1,nTrials):\n",
    "   \n",
    "    mu_noise = stats.norm(scale=1).rvs()   # Generate randomness to add as a noise with the current mean\n",
    "\n",
    "\n",
    "\n",
    "    # Get old and current (Proposed) mean\n",
    "    \n",
    "    mu_old = mu_value[i-1]\n",
    "    mu_proposed = mu_old + mu_noise\n",
    "\n",
    "    # compute the log-likehood of each mean with the dataset\n",
    "    # Logpmf was taken because the product of pmf might be a really smaller number\n",
    "    # As we are taking the logpmf, we can add all of the likelihoods\n",
    "    \n",
    "    likelihood_with_old_mu=((stats.poisson(mu_old).logpmf(data)).sum())      # likelihood with old mu\n",
    "    likelihood_with_new_mu=((stats.poisson(mu_proposed).logpmf(data)).sum()) # likelihood with new mu\n",
    "     \n",
    "\n",
    "    np.seterr(divide='ignore', invalid='ignore')                        # Ignore warnings for invalid division\n",
    "    \n",
    "    if  (likelihood_with_new_mu)-(likelihood_with_old_mu) > np.log(stats.uniform.rvs()):   \n",
    "                                                                 # Compare which mu has higher likelihood \n",
    "        mu_value[i]=mu_proposed                                  # If condition is met, store proposed mu\n",
    "    \n",
    "    else: \n",
    "        mu_value[i]=mu_old                                       # Otherwise, store old mu\n",
    "\n",
    "        "
   ]
  },
  {
   "cell_type": "markdown",
   "metadata": {},
   "source": [
    "In case of log-likelihood, instead of dividing two probabilites, we are taking difference between two likelihoods. Then, we compared it with the log of uniform random variable. If the difference was larger, then the mu was updated. Otherwise, mu remained same with probability (mu_prop/mu)"
   ]
  },
  {
   "cell_type": "code",
   "execution_count": 24,
   "metadata": {},
   "outputs": [],
   "source": [
    "# First reject first 10% of the simulated values as they might be biased towards the assumption\n",
    "\n",
    "first_10percent= 0.1*nTrials            # First 10% indexes\n",
    "mu_value_filtered=mu_value[int(first_10percent):]"
   ]
  },
  {
   "cell_type": "code",
   "execution_count": 25,
   "metadata": {},
   "outputs": [
    {
     "name": "stdout",
     "output_type": "stream",
     "text": [
      " Mean of from the simulation: 8.399\n"
     ]
    }
   ],
   "source": [
    "# First find out what is the mean of filtered mean after running the MCMC simulations\n",
    "\n",
    "print(f\" Mean of from the simulation: {np.mean(mu_value_filtered):0.3f}\")\n",
    "\n"
   ]
  },
  {
   "cell_type": "markdown",
   "metadata": {},
   "source": [
    "####Results: \n",
    "The mean from the MCMC simulation is 8.399, which is closer to the original datasetmean of 8.38. So, we can say that the MCMC converges to the original mean."
   ]
  },
  {
   "cell_type": "code",
   "execution_count": 28,
   "metadata": {},
   "outputs": [
    {
     "data": {
      "image/png": "[encoded data removed]",
      "text/plain": [
       "<Figure size 432x288 with 1 Axes>"
      ]
     },
     "metadata": {
      "needs_background": "light"
     },
     "output_type": "display_data"
    }
   ],
   "source": [
    "# Now plot the mean values with histogram without filtering\n",
    "\n",
    "plt.hist(mu_value,20)\n",
    "plt.title('Mean Value Without Filtering')\n",
    "plt.xlabel('Mean')\n",
    "plt.ylabel('Count')\n",
    "plt.show()"
   ]
  },
  {
   "cell_type": "code",
   "execution_count": 29,
   "metadata": {},
   "outputs": [
    {
     "data": {
      "image/png": "[encoded data removed]",
      "text/plain": [
       "<Figure size 432x288 with 1 Axes>"
      ]
     },
     "metadata": {
      "needs_background": "light"
     },
     "output_type": "display_data"
    }
   ],
   "source": [
    "# Now plot the mean values with histogram with filtering\n",
    "\n",
    "plt.hist(mu_value_filtered,20)\n",
    "plt.title('Mean Value With Filtering')\n",
    "plt.xlabel('Mean')\n",
    "plt.ylabel('Count')\n",
    "plt.show()"
   ]
  },
  {
   "cell_type": "markdown",
   "metadata": {},
   "source": [
    "####  Conclusion:\n",
    "It is evident that the mean converges towards the original dataset mean. As we are filtering out the first 10% of the simulations, the histogram with filtering looks like most the means are clustered around a single value. But it actually moves from the initial assumprtion to the predicted mean gradually (Actual:8.38, MCMC:8.399). Finally, we get a distribution of mean centered around a value or mean proposed mean(8.399). \n",
    "\n",
    "Overall, we successfully developed a MCMC simulation to predict the mean of a given poisson distribution."
   ]
  },
  {
   "cell_type": "code",
   "execution_count": null,
   "metadata": {},
   "outputs": [],
   "source": []
  },
  {
   "cell_type": "code",
   "execution_count": null,
   "metadata": {},
   "outputs": [],
   "source": []
  }
 ],
 "metadata": {
  "kernelspec": {
   "display_name": "Python 3",
   "language": "python",
   "name": "python3"
  },
  "language_info": {
   "codemirror_mode": {
    "name": "ipython",
    "version": 3
   },
   "file_extension": ".py",
   "mimetype": "text/x-python",
   "name": "python",
   "nbconvert_exporter": "python",
   "pygments_lexer": "ipython3",
   "version": "3.7.6"
  }
 },
 "nbformat": 4,
 "nbformat_minor": 5
}
