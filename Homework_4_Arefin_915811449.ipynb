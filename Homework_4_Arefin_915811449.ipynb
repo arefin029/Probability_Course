{
 "cells": [
  {
   "cell_type": "markdown",
   "metadata": {},
   "source": [
    "## Homework 4\n",
    "### Mohammed Shahriar Arefin (915811449)\n",
    "#### Date: 10/04/2021\n",
    "\n"
   ]
  },
  {
   "cell_type": "markdown",
   "metadata": {},
   "source": [
    "Homework Task:\n",
    "\n",
    "Perform the following tasks, and submit an ipynb file with your results. The goal is to create clusters of a group of random numbers\n",
    "\n",
    "1. create a list of 1000 random numbers, x, such that 500 of them are normally distributed with N(0,1) and the other 500 with normal distribution N(3,1). Show a histogram of your numbers\n",
    "\n",
    "2. pick two numbers at random somewhere between min(x) and max(x). These will be the initial center points for two clusters, Cluster A and Cluster B\n",
    "\n",
    "3. for each of the 1000 points, assign it membership to either cluster A or cluster B depending on whether it is closest to the center point for each cluster\n",
    "\n",
    "4. compute the average of all the points in Cluster A, and the average of all the points in Cluster B. These will be your new (updated) center points.\n",
    "\n",
    "5. repeat steps 3 and 4 many times, until the center points stop moving very much\n",
    "\n",
    "At this point, clustering is complete. Create separate histograms for the points in Clusters A and B. Has the clustering worked well?\n",
    "\n",
    "Try this procedure again but using three clusters (A, B, C) instead of just two.\n"
   ]
  },
  {
   "cell_type": "markdown",
   "metadata": {},
   "source": [
    "#### Solution:"
   ]
  },
  {
   "cell_type": "code",
   "execution_count": 1,
   "metadata": {},
   "outputs": [
    {
     "data": {
      "image/png": "[encoded data removed]",
      "text/plain": [
       "<Figure size 432x288 with 1 Axes>"
      ]
     },
     "metadata": {
      "needs_background": "light"
     },
     "output_type": "display_data"
    }
   ],
   "source": [
    "# Import Libraries\n",
    "import numpy as np\n",
    "import matplotlib.pyplot as plt\n",
    "np.random.seed(1)\n",
    "\n",
    "# Generate two random number distribution with given mean and size \n",
    "x1=np.random.normal(0,1,500)\n",
    "x2=np.random.normal(3,1,500)\n",
    "\n",
    "# Add two different distribution in a single set\n",
    "\n",
    "x=np.concatenate((x1,x2))\n",
    "plt.hist(x,bins=20,color='skyblue')\n",
    "plt.xlabel('Number')\n",
    "plt.ylabel('Count')\n",
    "plt.title('Collective Distribution')\n",
    "plt.xlim(-4,8)\n",
    "plt.grid()\n",
    "plt.show()\n"
   ]
  },
  {
   "cell_type": "code",
   "execution_count": 2,
   "metadata": {},
   "outputs": [
    {
     "name": "stdout",
     "output_type": "stream",
     "text": [
      "[0.98071316 2.01333535]\n"
     ]
    }
   ],
   "source": [
    "# select cluster and iteration number\n",
    "number_cluster=2\n",
    "number_iterations=50\n",
    "\n",
    "# Select center in between the mergred dataset\n",
    "center=np.random.uniform(min(x),max(x),number_cluster)\n",
    "print(center)\n"
   ]
  },
  {
   "cell_type": "markdown",
   "metadata": {},
   "source": [
    "#### The stratergy here is applied in the following logic:\n",
    "\n",
    "1) Create a random center(centroid)for two cluster\n",
    "\n",
    "2) Find the difference between two center and the datapoint\n",
    "\n",
    "3) Based on the difference, find out the nearest center for the datapoint\n",
    "\n",
    "4) Assign indexing for the datapoint based on closeness to the particular cluster center\n",
    "\n",
    "5) Take the mean of all datapoint assigned in two clusters to find out the new centers \n",
    "\n",
    "6) Find the difference between new center and old center \n",
    "\n",
    "7) Continue the iteration until the difference becomes less than a specified threshold\n"
   ]
  },
  {
   "cell_type": "code",
   "execution_count": 3,
   "metadata": {},
   "outputs": [
    {
     "name": "stdout",
     "output_type": "stream",
     "text": [
      "2.033854916618479\n",
      "0.23851280376928102\n",
      "0.06802405439120487\n",
      "0.018565287246039085\n",
      "0.01856667427238443\n",
      "0.0\n"
     ]
    }
   ],
   "source": [
    "# Create an array to store cluster identity \n",
    "cluster=np.zeros(len(x))\n",
    "\n",
    "# Update and store center here\n",
    "centers=[]\n",
    "# To store the difference between two centers here to determine the center is stable \n",
    "center_difference=[]\n",
    "\n",
    "\n",
    "\n",
    "for i in range(number_iterations):\n",
    "    centers=center # store Center\n",
    "    for m,n in enumerate(x):                # Find the index and value of x\n",
    "        difference=np.abs(center-n)         # Find difference between x and center\n",
    "        cluster[m]=np.argmin(difference)    # Find the closest cluster for the datapoint\n",
    "          \n",
    "        center_1=np.mean(x[(cluster==0)])   # Take mean of the points to find new center for cluster 1\n",
    "        center_2=np.mean(x[(cluster==1)])   # Take mean of the points to find new center for cluster 2\n",
    "        \n",
    "        center=[center_1,center_2]          # Store new center\n",
    "    center_difference=((abs(center[0]-centers[0]))+(abs(center[1]-centers[1])))   # Difference between new and old center\n",
    "    print(center_difference)\n",
    "    if center_difference<0.001:              # A random threshold set. If value below it, stop iterations\n",
    "        break\n",
    "  \n",
    "        \n",
    "        "
   ]
  },
  {
   "cell_type": "code",
   "execution_count": 4,
   "metadata": {},
   "outputs": [
    {
     "name": "stdout",
     "output_type": "stream",
     "text": [
      " Mean_val_C1: -0.02\n",
      " Standard_dev_C1: 0.89\n",
      " Mean_val_C2: 3.07\n",
      " Standard_dev_C2: 0.89\n"
     ]
    }
   ],
   "source": [
    "# Find the datapoint assigned to each cluster after iterations\n",
    "cluster_1=x[cluster==0]\n",
    "cluster_2=x[cluster==1]\n",
    "\n",
    "Mean_val_cluster1=np.mean(cluster_1)\n",
    "print(f\" Mean_val_C1: {Mean_val_cluster1:0.2f}\")\n",
    "Standard_dev_cluster1=np.std(cluster_1)\n",
    "print(f\" Standard_dev_C1: {Standard_dev_cluster1:0.2f}\")\n",
    "\n",
    "Mean_val_cluster2=np.mean(cluster_2)\n",
    "print(f\" Mean_val_C2: {Mean_val_cluster2:0.2f}\")\n",
    "Standard_dev_cluster2=np.std(cluster_2)\n",
    "print(f\" Standard_dev_C2: {Standard_dev_cluster1:0.2f}\")"
   ]
  },
  {
   "cell_type": "code",
   "execution_count": 5,
   "metadata": {},
   "outputs": [
    {
     "data": {
      "image/png": "[encoded data removed]",
      "text/plain": [
       "<Figure size 432x288 with 1 Axes>"
      ]
     },
     "metadata": {
      "needs_background": "light"
     },
     "output_type": "display_data"
    },
    {
     "data": {
      "image/png": "[encoded data removed]",
      "text/plain": [
       "<Figure size 432x288 with 1 Axes>"
      ]
     },
     "metadata": {
      "needs_background": "light"
     },
     "output_type": "display_data"
    }
   ],
   "source": [
    "plt.hist(cluster_1,color='red')\n",
    "plt.xlim(-4,10)\n",
    "plt.title('Cluster_1')\n",
    "plt.grid()\n",
    "plt.show()\n",
    "plt.figure()\n",
    "plt.hist(cluster_2)\n",
    "plt.title('Cluster_2')\n",
    "plt.xlim(-4,10)\n",
    "plt.grid()\n",
    "plt.show()\n",
    "\n",
    "\n"
   ]
  },
  {
   "cell_type": "markdown",
   "metadata": {},
   "source": [
    "#### Conclusion:\n",
    "\n",
    "Here, we applied an algorithm which tries to find the appropriate place for a datapoint based on distances from the centroid or center point. The center point gets changed until it reaches stability. \n",
    "\n",
    "After, applying these clustering technique, it is evident that the algorithm was able to identify two different clusters with good accuracy from a mixed dataset or array. \n",
    "\n",
    "Although, the mean of the clusters are not same as the generated dataset, the new cluster mean values were closer to  the original one. The only downside of the algorithm was the misclassification of the values where the datapointsfrom different distribution got overlapped with each other. Rather than getting a perfect normal distribution, we got skewed distributions in the final clustered data/histogram. \n",
    "\n",
    "Otherwise, the intended algorithm worked good. "
   ]
  },
  {
   "cell_type": "markdown",
   "metadata": {},
   "source": [
    "#### Expanding the Algorithm for 3 Distributions/cluster"
   ]
  },
  {
   "cell_type": "code",
   "execution_count": 6,
   "metadata": {},
   "outputs": [
    {
     "data": {
      "image/png": "[encoded data removed]",
      "text/plain": [
       "<Figure size 432x288 with 1 Axes>"
      ]
     },
     "metadata": {
      "needs_background": "light"
     },
     "output_type": "display_data"
    }
   ],
   "source": [
    "# Import Libraries\n",
    "import numpy as np\n",
    "import matplotlib.pyplot as plt\n",
    "np.random.seed(1)\n",
    "\n",
    "# Generate 3 random number distribution with given mean and size \n",
    "x1=np.random.normal(0,1,500)\n",
    "x2=np.random.normal(3,1,500)\n",
    "x3=np.random.normal(9,1,500)\n",
    "\n",
    "# Add 3 different distribution in a single set\n",
    "\n",
    "x=np.concatenate((x1,x2,x3))\n",
    "plt.hist(x,bins=20,color='skyblue')\n",
    "plt.xlabel('Number')\n",
    "plt.ylabel('Count')\n",
    "plt.title('Collective Distribution')\n",
    "plt.xlim(-4,13)\n",
    "plt.grid()\n",
    "plt.show()\n"
   ]
  },
  {
   "cell_type": "code",
   "execution_count": 7,
   "metadata": {},
   "outputs": [
    {
     "name": "stdout",
     "output_type": "stream",
     "text": [
      "[ 3.46476749  9.13294358 11.06243256]\n"
     ]
    }
   ],
   "source": [
    "# select cluster and iteration number\n",
    "number_cluster=3\n",
    "number_iterations=50\n",
    "\n",
    "# Select 3 center in the mergred dataset\n",
    "center=np.random.uniform(min(x),max(x),number_cluster)\n",
    "print(center)\n"
   ]
  },
  {
   "cell_type": "code",
   "execution_count": 8,
   "metadata": {},
   "outputs": [
    {
     "name": "stderr",
     "output_type": "stream",
     "text": [
      "D:\\anaconda3\\lib\\site-packages\\numpy\\core\\fromnumeric.py:3335: RuntimeWarning: Mean of empty slice.\n",
      "  out=out, **kwargs)\n",
      "D:\\anaconda3\\lib\\site-packages\\numpy\\core\\_methods.py:161: RuntimeWarning: invalid value encountered in double_scalars\n",
      "  ret = ret.dtype.type(ret / rcount)\n"
     ]
    },
    {
     "name": "stdout",
     "output_type": "stream",
     "text": [
      "24.029239795760603\n",
      "2.043407486419819\n",
      "0.4197834905561604\n",
      "0.049463999791452544\n",
      "0.006184282415881197\n",
      "0.0\n"
     ]
    }
   ],
   "source": [
    "# Create an array to store cluster identity \n",
    "cluster=np.zeros(len(x))\n",
    "\n",
    "# Update and store center here\n",
    "centers=[]\n",
    "# To store the difference between two centers here to determine the center is stable \n",
    "center_difference=[]\n",
    "\n",
    "\n",
    "\n",
    "for i in range(number_iterations):\n",
    "    centers=center # store Center\n",
    "    for m,n in enumerate(x):                # Find the index and value of x\n",
    "        difference=np.abs(center-n)         # Find difference between x and center\n",
    "        cluster[m]=np.argmin(difference)    # Find the closest cluster for the datapoint\n",
    "          \n",
    "        center_1=np.mean(x[(cluster==0)])   # Take mean of the points to find new center for cluster 1\n",
    "        center_2=np.mean(x[(cluster==1)])   # Take mean of the points to find new center for cluster 2\n",
    "        center_3=np.mean(x[(cluster==2)])   # Take mean of the points to find new center for cluster 3\n",
    "\n",
    "        \n",
    "        center=[center_1,center_2, center_3]          # Store new center\n",
    "    center_difference=((abs(center[0]-centers[0]))+(abs(center[1]-centers[1]))+(abs(center[2]-centers[2])))   # Difference between new and old center\n",
    "    print(center_difference)\n",
    "    if center_difference<0.001:              # A random threshold set. If value below it, stop iterations\n",
    "        break\n",
    "  \n",
    "        \n",
    "        "
   ]
  },
  {
   "cell_type": "code",
   "execution_count": 9,
   "metadata": {},
   "outputs": [
    {
     "name": "stdout",
     "output_type": "stream",
     "text": [
      " Mean_val_C1: 9.08\n",
      " Standard_dev_C1: 1.01\n",
      " Mean_val_C2: -0.03\n",
      " Standard_dev_C2: 1.01\n",
      " Mean_val_C3: 3.06\n",
      " Standard_dev_C3: 0.87\n"
     ]
    }
   ],
   "source": [
    "# Find the datapoint assigned to each cluster after iterations\n",
    "cluster_1=x[cluster==0]\n",
    "cluster_2=x[cluster==1]\n",
    "cluster_3=x[cluster==2]\n",
    "\n",
    "\n",
    "Mean_val_cluster1=np.mean(cluster_1)\n",
    "print(f\" Mean_val_C1: {Mean_val_cluster1:0.2f}\")\n",
    "Standard_dev_cluster1=np.std(cluster_1)\n",
    "print(f\" Standard_dev_C1: {Standard_dev_cluster1:0.2f}\")\n",
    "\n",
    "Mean_val_cluster2=np.mean(cluster_2)\n",
    "print(f\" Mean_val_C2: {Mean_val_cluster2:0.2f}\")\n",
    "Standard_dev_cluster2=np.std(cluster_2)\n",
    "print(f\" Standard_dev_C2: {Standard_dev_cluster1:0.2f}\")\n",
    "\n",
    "Mean_val_cluster3=np.mean(cluster_3)\n",
    "print(f\" Mean_val_C3: {Mean_val_cluster3:0.2f}\")\n",
    "Standard_dev_cluster3=np.std(cluster_3)\n",
    "print(f\" Standard_dev_C3: {Standard_dev_cluster3:0.2f}\")"
   ]
  },
  {
   "cell_type": "code",
   "execution_count": 10,
   "metadata": {},
   "outputs": [
    {
     "data": {
      "image/png": "[encoded data removed]",
      "text/plain": [
       "<Figure size 432x288 with 1 Axes>"
      ]
     },
     "metadata": {
      "needs_background": "light"
     },
     "output_type": "display_data"
    },
    {
     "data": {
      "image/png": "[encoded data removed]",
      "text/plain": [
       "<Figure size 432x288 with 1 Axes>"
      ]
     },
     "metadata": {
      "needs_background": "light"
     },
     "output_type": "display_data"
    },
    {
     "data": {
      "image/png": "[encoded data removed]",
      "text/plain": [
       "<Figure size 432x288 with 1 Axes>"
      ]
     },
     "metadata": {
      "needs_background": "light"
     },
     "output_type": "display_data"
    }
   ],
   "source": [
    "plt.hist(cluster_1,color='red')\n",
    "plt.xlim(-4,14)\n",
    "plt.title('Cluster_1')\n",
    "plt.grid()\n",
    "plt.show()\n",
    "plt.figure()\n",
    "plt.hist(cluster_2)\n",
    "plt.title('Cluster_2')\n",
    "plt.xlim(-4,14)\n",
    "plt.grid()\n",
    "plt.show()\n",
    "plt.figure()\n",
    "plt.hist(cluster_3)\n",
    "plt.title('Cluster_3')\n",
    "plt.xlim(-4,14)\n",
    "plt.grid()\n",
    "plt.show()\n",
    "\n",
    "\n"
   ]
  },
  {
   "cell_type": "markdown",
   "metadata": {},
   "source": [
    "#### Conclusion:\n",
    "\n",
    "Here, we expanded the algorithm to identify three different clusters. \n",
    "\n",
    "Here, we were successful to identify three separate clusters with good accuracy. For cluster-2 and cluster-3, the mean and standard deviation was closer to the original one, but the clustered distributions weren't perfectly normal. Rather the distributions were skewed due to the misclassification of overlapped regions. \n",
    "\n",
    "But, for cluster-1, the distribution was normal due to higher separation from the cluster-3. It seems like with increased spacing the detection accuracy of this algorithm gets higher. \n"
   ]
  },
  {
   "cell_type": "code",
   "execution_count": null,
   "metadata": {},
   "outputs": [],
   "source": []
  },
  {
   "cell_type": "code",
   "execution_count": null,
   "metadata": {},
   "outputs": [],
   "source": []
  }
 ],
 "metadata": {
  "kernelspec": {
   "display_name": "Python 3",
   "language": "python",
   "name": "python3"
  },
  "language_info": {
   "codemirror_mode": {
    "name": "ipython",
    "version": 3
   },
   "file_extension": ".py",
   "mimetype": "text/x-python",
   "name": "python",
   "nbconvert_exporter": "python",
   "pygments_lexer": "ipython3",
   "version": "3.7.6"
  }
 },
 "nbformat": 4,
 "nbformat_minor": 4
}
